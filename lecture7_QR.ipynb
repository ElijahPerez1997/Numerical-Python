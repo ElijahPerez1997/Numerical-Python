{
 "cells": [
  {
   "cell_type": "code",
   "execution_count": null,
   "metadata": {},
   "outputs": [],
   "source": [
    "# Import our packages for numerical computing\n",
    "import numpy as np\n",
    "import scipy as sp\n",
    "import matplotlib.pyplot as plt\n",
    "import scipy.linalg as sla\n",
    "%matplotlib inline"
   ]
  },
  {
   "cell_type": "markdown",
   "metadata": {},
   "source": [
    "__Demonstrate $QR$ factorization__\n",
    "\n",
    "- Use Gram-Schmit to form reduced $QR$\n",
    "  $$ A = \\hat{Q} \\hat{R} $$\n"
   ]
  },
  {
   "cell_type": "code",
   "execution_count": null,
   "metadata": {},
   "outputs": [],
   "source": [
    "# Generate a random matrix for the QR \n",
    "A = sp.rand(4,4)\n",
    "\n",
    "# Define function for classical Gram-Schmidt\n",
    "def classical_GS(A):\n",
    "    '''\n",
    "    Carry out classical Gram-Schmidt on A\n",
    "    Return reduced Q R\n",
    "    '''\n",
    "    m = A.shape[0]\n",
    "    n = A.shape[1]\n",
    "    \n",
    "    # Preallocate Q and R (more efficient)\n",
    "    Q = np.zeros( (m,n) )\n",
    "    R = np.zeros( (n,n) )\n",
    "    \n",
    "    # Loop over columns of A\n",
    "    for j in range(n):\n",
    "        # Create orthonormal qj based on column j of A\n",
    "        vj = A[:,j]\n",
    "        \n",
    "        # Orthogonalize vj w.r.t. all the previous columns of A\n",
    "        #  Note: Python will not execute this loop for the i==j case \n",
    "        for i in range(j):\n",
    "            R[i,j] = np.dot(Q[:,i], A[:,j])\n",
    "            vj = vj - R[i,j]*Q[:,i]\n",
    "        \n",
    "        # Set column j in Q\n",
    "        R[j,j] = sla.norm(vj)\n",
    "        Q[:,j] = vj/R[j,j]\n",
    "    ## End loops    \n",
    "    return (Q,R)\n",
    "    \n",
    "np.set_printoptions(precision=3, suppress=True)\n",
    "[Q,R] = classical_GS(A)\n",
    "print(Q)\n",
    "print(\"----\")\n",
    "print(R)"
   ]
  },
  {
   "cell_type": "markdown",
   "metadata": {},
   "source": [
    "__Let's verify some basic properties of $QR$__"
   ]
  },
  {
   "cell_type": "code",
   "execution_count": null,
   "metadata": {},
   "outputs": [],
   "source": [
    "# Is A == QR ?\n",
    "print(A - np.dot(Q,R))\n",
    "print(\"------\")\n",
    "\n",
    "# Is Q* Q = I ?\n",
    "print(np.dot(Q.T,Q))\n",
    "\n",
    "#\n"
   ]
  },
  {
   "cell_type": "markdown",
   "metadata": {},
   "source": [
    "__Let's solve a linear system with $QR$__"
   ]
  },
  {
   "cell_type": "code",
   "execution_count": null,
   "metadata": {},
   "outputs": [],
   "source": [
    "b = sp.rand(4,1)\n",
    "Qb = np.dot(Q.T, b)\n",
    "x = sla.solve_triangular(R, Qb)\n",
    "print(b)\n",
    "print('-------')\n",
    "print(np.dot(A,x))\n",
    "print('-------')\n",
    "print(b - np.dot(A,x))"
   ]
  },
  {
   "cell_type": "markdown",
   "metadata": {},
   "source": [
    "__What if $A$ is singular?__"
   ]
  },
  {
   "cell_type": "code",
   "execution_count": null,
   "metadata": {},
   "outputs": [],
   "source": [
    "# Let's make column 2 a multiple of column 1\n",
    "# Predictions on what will happen? \n",
    "A[:,2] = 1.23*A[:,1]"
   ]
  },
  {
   "cell_type": "code",
   "execution_count": null,
   "metadata": {},
   "outputs": [],
   "source": [
    "[Q,R] = classical_GS(A)\n",
    "print(Q)\n",
    "print(\"----\")\n",
    "print(R)\n",
    "print R[2,2]"
   ]
  },
  {
   "cell_type": "code",
   "execution_count": null,
   "metadata": {},
   "outputs": [],
   "source": [
    "# Now let's solve a linear system with this Q and R\n",
    "b = sp.rand(4,1)\n",
    "Qb = np.dot(Q.T, b)\n",
    "x = sla.solve_triangular(R, Qb)\n",
    "print(b)\n",
    "print('-------')\n",
    "print(np.dot(A,x))\n",
    "print('-------')\n",
    "print(b - np.dot(A,x))"
   ]
  },
  {
   "cell_type": "markdown",
   "metadata": {},
   "source": [
    "__Oh no!  This tiny entry is now messing everything up.__\n",
    "- Problem is that **cond(R)** is huge.  \n",
    "- Let's change the algorithm to set this numerically zero value to 0.\n",
    "- Note the zero check !!"
   ]
  },
  {
   "cell_type": "code",
   "execution_count": null,
   "metadata": {},
   "outputs": [],
   "source": [
    "# Define function for classical Gram-Schmidt\n",
    "def classical_GS_new(A):\n",
    "    '''\n",
    "    Carry out classical Gram-Schmidt on A\n",
    "    Return reduced Q R\n",
    "    \n",
    "    UPDATE: Added check for linear dependence (singularness)\n",
    "    '''\n",
    "    m = A.shape[0]\n",
    "    n = A.shape[1]\n",
    "    \n",
    "    # Preallocate Q and R (more efficient)\n",
    "    Q = np.zeros( (m,n) )\n",
    "    R = np.zeros( (n,n) )\n",
    "    \n",
    "    # Loop over columns of A\n",
    "    for j in range(n):\n",
    "        # Create orthonormal qj based on column j of A\n",
    "        vj = A[:,j]\n",
    "        \n",
    "        # Orthogonalize vj w.r.t. all the previous columns of A\n",
    "        #  Note: Python will not execute this loop for the i==j case \n",
    "        for i in range(j):\n",
    "            R[i,j] = np.dot(Q[:,i], A[:,j])\n",
    "            vj = vj - R[i,j]*Q[:,i]\n",
    "        \n",
    "        # Set column j in Q\n",
    "        R[j,j] = sla.norm(vj)\n",
    "        if R[j,j] < 1e-10*R[0,0]: # NEW CHECK for linear dependence\n",
    "            R[j,j] = 0.0\n",
    "            Q[:,j] = 0.0\n",
    "        else:\n",
    "            Q[:,j] = vj/R[j,j]\n",
    "            \n",
    "    ## End loops    \n",
    "    return (Q,R)"
   ]
  },
  {
   "cell_type": "code",
   "execution_count": null,
   "metadata": {},
   "outputs": [],
   "source": [
    "# Now lets use the new QR \n",
    "[Q,R] = classical_GS_new(A)\n",
    "\n",
    "print(Q)\n",
    "print(R)"
   ]
  },
  {
   "cell_type": "markdown",
   "metadata": {},
   "source": [
    "__Now, the QR algorithm is a bit more robust, warning us when we have a numerically singular A (at least in some cases)__\n",
    "- But we still can't invert $R$"
   ]
  },
  {
   "cell_type": "markdown",
   "metadata": {},
   "source": [
    "__Thoughts for home__\n",
    "- What if $A$ is complex valued?\n",
    "- What do we need to change above?\n",
    "- Does the order of any dot products matter?\n"
   ]
  },
  {
   "cell_type": "code",
   "execution_count": null,
   "metadata": {},
   "outputs": [],
   "source": []
  }
 ],
 "metadata": {
  "kernelspec": {
   "display_name": "Python 3",
   "language": "python",
   "name": "python3"
  },
  "language_info": {
   "codemirror_mode": {
    "name": "ipython",
    "version": 3
   },
   "file_extension": ".py",
   "mimetype": "text/x-python",
   "name": "python",
   "nbconvert_exporter": "python",
   "pygments_lexer": "ipython3",
   "version": "3.7.4"
  }
 },
 "nbformat": 4,
 "nbformat_minor": 1
}

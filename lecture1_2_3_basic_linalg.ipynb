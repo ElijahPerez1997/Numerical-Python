{
 "cells": [
  {
   "cell_type": "markdown",
   "metadata": {},
   "source": [
    "- Python is a general purpose language with everyone from socket programming, to web servers, to databases\n",
    "- To *activate* these various capabilities, you have to import the correct packages\n",
    "    - By *activate*, I mean import the functions and objects that support these capabilities into our namespace\n",
    "- We will use the following packages in this class\n",
    "    - numpy\n",
    "    - scipy\n",
    "    - matplotlib\n",
    "    - pyamg\n",
    "- The package import syntax is simple\n",
    "\n"
   ]
  },
  {
   "cell_type": "code",
   "execution_count": null,
   "metadata": {},
   "outputs": [],
   "source": [
    "import numpy as np\n",
    "import scipy as sp\n",
    "import matplotlib.pyplot as plt\n",
    "import scipy.linalg as sla\n",
    "%matplotlib inline"
   ]
  },
  {
   "cell_type": "markdown",
   "metadata": {},
   "source": [
    "### Lectures 1 and 2 (T&B)\n",
    "First, we demonstrate matrix-vector and matrix-matrix multiplication "
   ]
  },
  {
   "cell_type": "code",
   "execution_count": null,
   "metadata": {},
   "outputs": [],
   "source": [
    "# Generate a rando matrix\n",
    "n = 4\n",
    "A = sp.rand(n,n)\n",
    "np.set_printoptions(precision=2, suppress=True)\n",
    "print(A)"
   ]
  },
  {
   "cell_type": "code",
   "execution_count": null,
   "metadata": {},
   "outputs": [],
   "source": [
    "# This is how you do matrix-matrix multiply (with dot())\n",
    "print( np.dot(A,A))\n",
    "print(\"\")\n",
    "\n",
    "# This isn't zero!! The star (*) operator is element-wise multiplication!\n",
    "print( A*A - np.dot(A,A))  "
   ]
  },
  {
   "cell_type": "code",
   "execution_count": null,
   "metadata": {},
   "outputs": [],
   "source": [
    "# Let's look at mat-vec\n",
    "x = np.arange(0,4)\n",
    "print(x)\n",
    "print(\"\")\n",
    "print(np.dot(A,x))"
   ]
  },
  {
   "cell_type": "code",
   "execution_count": null,
   "metadata": {},
   "outputs": [],
   "source": [
    "# Be careful not to use the \"*\" operator !!!\n",
    "print(A*x)"
   ]
  },
  {
   "cell_type": "code",
   "execution_count": null,
   "metadata": {},
   "outputs": [],
   "source": [
    "# Can also easily do dot-products with vectors\n",
    "print(x)\n",
    "print(np.dot(x,x))"
   ]
  },
  {
   "cell_type": "code",
   "execution_count": null,
   "metadata": {},
   "outputs": [],
   "source": [
    "# Taking matrix adjoints is easy, too\n",
    "B = sp.rand(2,2) + 1.0j*sp.rand(2,2)\n",
    "print(B)\n",
    "print(\"\")\n",
    "print(B.T)\n",
    "print(\"\")\n",
    "print(B.conjugate().T)"
   ]
  },
  {
   "cell_type": "code",
   "execution_count": null,
   "metadata": {},
   "outputs": [],
   "source": [
    "# Let's create two orthogonal vectors\n",
    "v = sp.rand(3)\n",
    "q1 = sp.rand(3)\n",
    "q1 /= sla.norm(q1)\n",
    "v = v - np.dot(q1,v)*q1\n",
    "print(np.dot(q1,v))"
   ]
  },
  {
   "cell_type": "markdown",
   "metadata": {},
   "source": [
    "### Lecture 3 (T&B)"
   ]
  },
  {
   "cell_type": "code",
   "execution_count": null,
   "metadata": {},
   "outputs": [],
   "source": [
    "# Can easily do norms with vectors\n",
    "print(np.sqrt(np.dot(x,x)), sla.norm(x), sla.norm(x,2)) \n",
    "print(\"\")\n",
    "print(sla.norm(x, np.inf), sla.norm(x, 1))\n",
    "\n",
    "# Can also take norms of matrices, easily\n",
    "print(sla.norm(A,2), sla.norm(A,'fro'))"
   ]
  },
  {
   "cell_type": "code",
   "execution_count": null,
   "metadata": {},
   "outputs": [],
   "source": []
  },
  {
   "cell_type": "markdown",
   "metadata": {},
   "source": [
    "__If you are not familiar with Python and Scipy/Numpy then please do some of tutorial(s) for these technologies.__\n",
    "    - See scipy_tutorial.pdf in the lecture materials\n",
    "    - The course webpage has some links at the bottom, but the web is filled many resources here, too."
   ]
  },
  {
   "cell_type": "code",
   "execution_count": null,
   "metadata": {},
   "outputs": [],
   "source": []
  }
 ],
 "metadata": {
  "kernelspec": {
   "display_name": "Python 3",
   "language": "python",
   "name": "python3"
  },
  "language_info": {
   "codemirror_mode": {
    "name": "ipython",
    "version": 3
   },
   "file_extension": ".py",
   "mimetype": "text/x-python",
   "name": "python",
   "nbconvert_exporter": "python",
   "pygments_lexer": "ipython3",
   "version": "3.7.4"
  }
 },
 "nbformat": 4,
 "nbformat_minor": 1
}

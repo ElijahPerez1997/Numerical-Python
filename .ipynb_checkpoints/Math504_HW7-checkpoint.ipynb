{
 "cells": [
  {
   "cell_type": "markdown",
   "metadata": {},
   "source": [
    "Problem 1:"
   ]
  },
  {
   "cell_type": "code",
   "execution_count": 1,
   "metadata": {},
   "outputs": [
    {
     "name": "stdout",
     "output_type": "stream",
     "text": [
      "for random matrix number 1 we have:\n",
      "norm(U-U2) = 6.903788171092911\n",
      "norm(V-V2) = 6.880465333047811\n",
      "norm(S-S2) = 26.478927351492867\n",
      "norm(A-A2) = 25.90467793781208\n",
      "\n",
      "for random matrix number 2 we have:\n",
      "norm(U-U2) = 7.858927183257159\n",
      "norm(V-V2) = 7.471076684190874\n",
      "norm(S-S2) = 22.317688281517317\n",
      "norm(A-A2) = 22.3185043211244\n",
      "\n",
      "for random matrix number 3 we have:\n",
      "norm(U-U2) = 6.56715802453515\n",
      "norm(V-V2) = 6.661245343254165\n",
      "norm(S-S2) = 23.301462437396975\n",
      "norm(A-A2) = 22.73101549900532\n",
      "\n",
      "for random matrix number 4 we have:\n",
      "norm(U-U2) = 6.776496723319238\n",
      "norm(V-V2) = 7.070579373246771\n",
      "norm(S-S2) = 26.723864608318205\n",
      "norm(A-A2) = 26.218540227558243\n",
      "\n",
      "for random matrix number 5 we have:\n",
      "norm(U-U2) = 5.923561816238152\n",
      "norm(V-V2) = 5.3904978380888755\n",
      "norm(S-S2) = 25.478980605077837\n",
      "norm(A-A2) = 23.84571571828095\n",
      "\n"
     ]
    }
   ],
   "source": [
    "import numpy as np\n",
    "import scipy as sp\n",
    "import matplotlib.pyplot as plt\n",
    "import scipy.linalg as sla\n",
    "%matplotlib inline\n",
    "n = 50\n",
    "from scipy.stats import ortho_group \n",
    "for i in range(5):\n",
    "    U=ortho_group.rvs(dim=n)\n",
    "    V=ortho_group.rvs(dim=n)\n",
    "    x=sp.rand(n)\n",
    "    Sl=list(x)\n",
    "    Sl.sort(reverse=True)\n",
    "    Sa=np.array(Sl)\n",
    "    S=np.diag(Sa)\n",
    "    A=np.dot(U, np.dot(S,V.T))\n",
    "    [U2,S2,V2] = sla.svd(A)\n",
    "    normU=sla.norm(U-U2,np.inf)\n",
    "    normV=sla.norm(V-V2.T,np.inf)\n",
    "    normS=sla.norm(S-S2,np.inf)\n",
    "    A2=np.dot(U2,np.dot(S2,V2))\n",
    "    normA=sla.norm(A-A2,np.inf)\n",
    "    print(\"for random matrix number\",i+1,\"we have:\")\n",
    "    print(\"norm(U-U2) =\",normU)\n",
    "    print(\"norm(V-V2) =\",normV)\n",
    "    print(\"norm(S-S2) =\",normS)\n",
    "    print(\"norm(A-A2) =\",normA)\n",
    "    print()\n",
    "#\n"
   ]
  },
  {
   "cell_type": "markdown",
   "metadata": {},
   "source": [
    "- As we can see from the norms listed above we have a larger difference in S and S2 when compared to the others. We can see that this is the dominating factor when looking at the difference in A and A2 becuase the norm or S-S2 is very close to the norm of A-A2. "
   ]
  },
  {
   "cell_type": "markdown",
   "metadata": {},
   "source": [
    "- Now we will do this again but for $S^6$"
   ]
  },
  {
   "cell_type": "code",
   "execution_count": 2,
   "metadata": {},
   "outputs": [
    {
     "name": "stdout",
     "output_type": "stream",
     "text": [
      "for random matrix number 1 we have:\n",
      "norm(U-U2) = 7.457993486468699\n",
      "norm(V-V2) = 7.427014918832976\n",
      "norm(S-S2) = 8.477400327916914\n",
      "norm(A-A2) = 13.348171384756391\n",
      "\n",
      "for random matrix number 2 we have:\n",
      "norm(U-U2) = 7.385373645325169\n",
      "norm(V-V2) = 7.757449249130372\n",
      "norm(S-S2) = 5.656040181010568\n",
      "norm(A-A2) = 9.979001714058569\n",
      "\n",
      "for random matrix number 3 we have:\n",
      "norm(U-U2) = 7.906901564263639\n",
      "norm(V-V2) = 7.553277355719952\n",
      "norm(S-S2) = 7.898625587164601\n",
      "norm(A-A2) = 12.114697393715792\n",
      "\n",
      "for random matrix number 4 we have:\n",
      "norm(U-U2) = 7.8832783051964945\n",
      "norm(V-V2) = 8.144525099581385\n",
      "norm(S-S2) = 5.869581314295001\n",
      "norm(A-A2) = 10.413361435764479\n",
      "\n",
      "for random matrix number 5 we have:\n",
      "norm(U-U2) = 7.646693223942312\n",
      "norm(V-V2) = 8.119582352141233\n",
      "norm(S-S2) = 5.265578685167271\n",
      "norm(A-A2) = 8.698608577486176\n",
      "\n"
     ]
    }
   ],
   "source": [
    "for i in range(5):\n",
    "    U=ortho_group.rvs(dim=n)\n",
    "    V=ortho_group.rvs(dim=n)\n",
    "    x=sp.rand(n)\n",
    "    Sl=list(x)\n",
    "    Sl.sort(reverse=True)\n",
    "    Sa=np.array(Sl)\n",
    "    S=np.diag(Sa)**6\n",
    "    \n",
    "    A=np.dot(U, np.dot(S,V.T))\n",
    "    [U2,S2,V2] = sla.svd(A)\n",
    "    normU=sla.norm(U-U2,np.inf)\n",
    "    normV=sla.norm(V-V2.T,np.inf)\n",
    "    normS=sla.norm(S-S2,np.inf)\n",
    "    A2=np.dot(U2,np.dot(S2,V2))\n",
    "    normA=sla.norm(A-A2,np.inf)\n",
    "    print(\"for random matrix number\",i+1,\"we have:\")\n",
    "    print(\"norm(U-U2) =\",normU)\n",
    "    print(\"norm(V-V2) =\",normV)\n",
    "    print(\"norm(S-S2) =\",normS)\n",
    "    print(\"norm(A-A2) =\",normA)\n",
    "    print()\n",
    "#"
   ]
  },
  {
   "cell_type": "markdown",
   "metadata": {},
   "source": [
    "- As we can see when we raise S to the sixth power we get a lot better results for the norm of A-A2. This is becuase the norm of S-S2 decreased dramatically when we raised S to the sixth power."
   ]
  }
 ],
 "metadata": {
  "kernelspec": {
   "display_name": "Python 3",
   "language": "python",
   "name": "python3"
  },
  "language_info": {
   "codemirror_mode": {
    "name": "ipython",
    "version": 3
   },
   "file_extension": ".py",
   "mimetype": "text/x-python",
   "name": "python",
   "nbconvert_exporter": "python",
   "pygments_lexer": "ipython3",
   "version": "3.7.4"
  }
 },
 "nbformat": 4,
 "nbformat_minor": 2
}

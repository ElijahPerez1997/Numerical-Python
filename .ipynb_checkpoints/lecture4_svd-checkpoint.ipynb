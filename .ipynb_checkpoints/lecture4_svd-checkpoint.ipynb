{
 "cells": [
  {
   "cell_type": "markdown",
   "metadata": {},
   "source": [
    "- Python is a general purpose language with everyone from socket programming, to web servers, to databases\n",
    "- To *activate* these various capabilities, you have to import the correct packages\n",
    "    - By *activate*, I mean import the functions and objects that support these capabilities into our namespace\n",
    "- We will use the following packages in this class\n",
    "    - numpy\n",
    "    - scipy\n",
    "    - matplotlib\n",
    "    - pyamg\n",
    "- The package import syntax is simple\n",
    "\n"
   ]
  },
  {
   "cell_type": "code",
   "execution_count": null,
   "metadata": {},
   "outputs": [],
   "source": [
    "import numpy as np\n",
    "import scipy as sp\n",
    "import matplotlib.pyplot as plt\n",
    "import scipy.linalg as sla\n",
    "%matplotlib inline"
   ]
  },
  {
   "cell_type": "markdown",
   "metadata": {},
   "source": [
    "First, we explore the SVD capabilities in Python"
   ]
  },
  {
   "cell_type": "code",
   "execution_count": null,
   "metadata": {},
   "outputs": [],
   "source": [
    "n = 4\n",
    "A = sp.rand(n,n)\n",
    "print(A)"
   ]
  },
  {
   "cell_type": "code",
   "execution_count": null,
   "metadata": {},
   "outputs": [],
   "source": [
    "# Generate SVD from Scipy Linalg sub-package \n",
    "[U,S,Vh] = sla.svd(A)"
   ]
  },
  {
   "cell_type": "code",
   "execution_count": null,
   "metadata": {},
   "outputs": [],
   "source": [
    "# Print out the SVD\n",
    "np.set_printoptions(precision=2, suppress=True)\n",
    "print(U)\n",
    "print('------')\n",
    "print(S)\n",
    "print('------')\n",
    "print(Vh)"
   ]
  },
  {
   "cell_type": "code",
   "execution_count": null,
   "metadata": {},
   "outputs": [],
   "source": [
    "# Verify the SVD is correct\n",
    "# ==> Note how we do matrix-matrix products!  USE DOT()!\n",
    "print(A - np.dot(U, np.dot(np.diag(S),Vh)) )"
   ]
  },
  {
   "cell_type": "code",
   "execution_count": null,
   "metadata": {},
   "outputs": [],
   "source": [
    "# Be careful...svd returns the adjoint of V !\n",
    "print(A - np.dot(U, np.dot(np.diag(S),Vh.T)) )"
   ]
  },
  {
   "cell_type": "markdown",
   "metadata": {},
   "source": [
    "__Can solve a linear system with SVD__\n",
    "\\begin{align}\n",
    "    A &= U \\Sigma V^* \\quad \\Rightarrow \\\\\n",
    "    A^{-1} &= V \\Sigma^{-1} U^*\n",
    "\\end{align}\n",
    "    "
   ]
  },
  {
   "cell_type": "code",
   "execution_count": null,
   "metadata": {},
   "outputs": [],
   "source": [
    "b = sp.rand(n,1)\n",
    "x = np.dot(U.T, b)\n",
    "x = x/S.reshape(-1,1)\n",
    "x = np.dot(Vh.T,x)\n",
    "print(np.dot(A,x))\n",
    "print(\"----\")\n",
    "print(b)"
   ]
  },
  {
   "cell_type": "markdown",
   "metadata": {},
   "source": [
    "__If you are not familiar with Python and Scipy/Numpy then please do some of tutorial(s) for these technologies.__\n",
    "    - See scipy_tutorial.pdf in the lecture materials\n",
    "    - The course webpage has some links at the bottom, but the web is filled many resources here, too."
   ]
  },
  {
   "cell_type": "code",
   "execution_count": null,
   "metadata": {},
   "outputs": [],
   "source": []
  }
 ],
 "metadata": {
  "kernelspec": {
   "display_name": "Python 3",
   "language": "python",
   "name": "python3"
  },
  "language_info": {
   "codemirror_mode": {
    "name": "ipython",
    "version": 3
   },
   "file_extension": ".py",
   "mimetype": "text/x-python",
   "name": "python",
   "nbconvert_exporter": "python",
   "pygments_lexer": "ipython3",
   "version": "3.7.4"
  }
 },
 "nbformat": 4,
 "nbformat_minor": 1
}

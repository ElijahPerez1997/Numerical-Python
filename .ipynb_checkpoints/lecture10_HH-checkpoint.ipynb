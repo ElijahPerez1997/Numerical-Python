{
 "cells": [
  {
   "cell_type": "code",
   "execution_count": 2,
   "metadata": {},
   "outputs": [],
   "source": [
    "# Import our packages for numerical computing\n",
    "import numpy as np\n",
    "import scipy as sp\n",
    "import matplotlib.pyplot as plt\n",
    "import scipy.linalg as sla\n",
    "%matplotlib inline"
   ]
  },
  {
   "cell_type": "markdown",
   "metadata": {},
   "source": [
    "__Compare Householder with Classical GS and Modified GS__\n",
    "- Review these implementations at home, comparing to the pseudocode in Trefethen and Bau\n"
   ]
  },
  {
   "cell_type": "code",
   "execution_count": 3,
   "metadata": {},
   "outputs": [],
   "source": [
    "# First, define functions for classical and modified Gram-Schmidt\n",
    "def classical_GS(A):\n",
    "    '''\n",
    "    Carry out classical Gram-Schmidt on A\n",
    "    Return reduced Q R\n",
    "    '''\n",
    "    A = A.copy()    # Copy A, so we don't over-write the matrix passed in\n",
    "    m = A.shape[0]\n",
    "    n = A.shape[1]\n",
    "    \n",
    "    # Preallocate Q and R (more efficient)\n",
    "    Q = np.zeros( (m,n) )\n",
    "    R = np.zeros( (n,n) )\n",
    "    \n",
    "    # Loop over columns of A\n",
    "    for j in range(n):\n",
    "        # Create orthonormal qj based on column j of A\n",
    "        vj = A[:,j]\n",
    "        \n",
    "        # Orthogonalize vj w.r.t. all the previous columns of A\n",
    "        #  Note: Python will not execute this loop for the i==j case \n",
    "        for i in range(j):\n",
    "            R[i,j] = np.dot(Q[:,i], A[:,j])\n",
    "            vj = vj - R[i,j]*Q[:,i]\n",
    "        \n",
    "        # Set column j in Q\n",
    "        R[j,j] = sla.norm(vj)\n",
    "        Q[:,j] = vj/R[j,j]\n",
    "        \n",
    "    ## End loops    \n",
    "    return (Q,R)\n",
    "    \n",
    "    \n",
    "\n",
    "# Next, define function for Modified GS\n",
    "def mod_GS(A):\n",
    "    '''\n",
    "    Carry out modified Gram-Schmidt on A\n",
    "    Return reduced Q R\n",
    "    '''\n",
    "    A = A.copy()    # Copy A, so we don't over-write the matrix passed in\n",
    "    m = A.shape[0]\n",
    "    n = A.shape[1]\n",
    "    \n",
    "    # Preallocate Q and R (more efficient)\n",
    "    Q = np.zeros( (m,n) )\n",
    "    R = np.zeros( (n,n) )\n",
    "    \n",
    "    # Skip pre-assignment loop of\n",
    "    #    v_i <-- a_i\n",
    "    # as done in Trefethen and Bau. We will just over-write A\n",
    "    # as we compute, i.e., v_i will always be the same thing as \n",
    "    # a_i. This saves space.\n",
    "    \n",
    "    # Loop over columns of A\n",
    "    for i in range(n):\n",
    "        # Form and store qj as column j in Q\n",
    "        R[i,i] = sla.norm(A[:,i])\n",
    "        Q[:,i] = A[:,i]/R[i,i]\n",
    "        \n",
    "        # Orthogonalize all columns j>i of V (really A) w.r.t. qi vj w.r.t. all the previous columns of A\n",
    "        #  Note: Python will not execute this loop for the i==j case \n",
    "        for j in range(i+1,n):\n",
    "            R[i,j] = np.dot(Q[:,i], A[:,j])\n",
    "            A[:,j] = A[:,j] - R[i,j]*Q[:,i]\n",
    "        \n",
    "    ## End loops    \n",
    "    return (Q,R)\n",
    "    \n"
   ]
  },
  {
   "cell_type": "code",
   "execution_count": 4,
   "metadata": {},
   "outputs": [],
   "source": [
    "# Now, we define a Householder routine, following algorithm 10.1 from the book\n",
    "def householder(A):\n",
    "    '''\n",
    "    Carry out a QR factorization of A, using Householder reflectors\n",
    "    \n",
    "    Return reduced Q R\n",
    "    -> Q is a list of reflector vectors v\n",
    "    '''\n",
    "    R = A.copy()    # Copy A, so we don't over-write the matrix passed in\n",
    "    m = R.shape[0]\n",
    "    n = R.shape[1]\n",
    "    vs = []\n",
    "    \n",
    "    for k in range(n):\n",
    "        \n",
    "        # Construct reflector vector\n",
    "        v = R[k:m,k].copy()\n",
    "        v[0] = np.sign(v[0])*sla.norm(v) + v[0]\n",
    "        v = v / sla.norm(v)\n",
    "        vs.append(v)\n",
    "        \n",
    "        # Update R\n",
    "        v = v.reshape(-1,1)\n",
    "        R[k:m, k:n] = R[k:m, k:n] - 2.0*np.dot(v, np.dot(v.T, R[k:m, k:n]))\n",
    "        \n",
    "    ## \n",
    "    # End Loop\n",
    "    \n",
    "    return (vs, R)"
   ]
  },
  {
   "cell_type": "code",
   "execution_count": 5,
   "metadata": {},
   "outputs": [
    {
     "name": "stdout",
     "output_type": "stream",
     "text": [
      "[[ 0.744  1.379  1.235  0.699  1.29 ]\n",
      " [ 0.     0.765  0.858 -0.017  0.438]\n",
      " [ 0.     0.     0.274  0.088  0.351]\n",
      " [ 0.     0.     0.     0.216 -0.128]\n",
      " [ 0.     0.     0.     0.     0.105]]\n",
      "[[ 0.744  1.379  1.235  0.699  1.29 ]\n",
      " [ 0.     0.765  0.858 -0.017  0.438]\n",
      " [ 0.     0.     0.274  0.088  0.351]\n",
      " [ 0.     0.     0.     0.216 -0.128]\n",
      " [ 0.     0.     0.     0.     0.105]]\n",
      "[[-0.744 -1.379 -1.235 -0.699 -1.29 ]\n",
      " [-0.     0.765  0.858 -0.017  0.438]\n",
      " [-0.    -0.     0.274  0.088  0.351]\n",
      " [-0.     0.     0.     0.216 -0.128]\n",
      " [-0.     0.     0.     0.    -0.105]]\n"
     ]
    }
   ],
   "source": [
    "# Sanity check that the implementation is OK\n",
    "np.random.seed(9)\n",
    "A = sp.rand(5,5)\n",
    "np.set_printoptions(precision=3, suppress=True)\n",
    "[Q1,R1] = classical_GS(A)\n",
    "[Q2,R2] = mod_GS(A)\n",
    "[Q3,R3] = householder(A)\n",
    "print(R1)\n",
    "print(R2)\n",
    "print(R3)\n"
   ]
  },
  {
   "cell_type": "markdown",
   "metadata": {},
   "source": [
    "__Each $R$ is the same, up to sign__\n",
    "- What accounts for this difference?\n",
    "- Where do we have a choice in the Householder algorithm?\n",
    "\n",
    "__Let's Look at entries in the lower triangle of $R_3$__"
   ]
  },
  {
   "cell_type": "code",
   "execution_count": 6,
   "metadata": {},
   "outputs": [
    {
     "name": "stdout",
     "output_type": "stream",
     "text": [
      "-1.1102230246251565e-16\n"
     ]
    }
   ],
   "source": [
    "print(R3[3,0])"
   ]
  },
  {
   "cell_type": "markdown",
   "metadata": {},
   "source": [
    "__This small nonzero value is numerical round-off error__\n",
    "- Can we set this value to 0?  \n",
    "- Does Householder guarantee this?\n",
    "- Do we even need to compute values in the lower triangle of $R$?"
   ]
  },
  {
   "cell_type": "markdown",
   "metadata": {},
   "source": [
    "__Lastly, let's look at the matrix from question 10.3 in the book__\n"
   ]
  },
  {
   "cell_type": "code",
   "execution_count": 7,
   "metadata": {},
   "outputs": [
    {
     "name": "stdout",
     "output_type": "stream",
     "text": [
      "[[1. 2. 3.]\n",
      " [4. 5. 6.]\n",
      " [7. 8. 7.]\n",
      " [4. 2. 3.]\n",
      " [4. 2. 2.]]\n"
     ]
    }
   ],
   "source": [
    "A = np.array([[1., 2., 3.], [4, 5, 6], [7, 8, 7], [4, 2, 3], [4, 2, 2]])\n",
    "print(A)"
   ]
  },
  {
   "cell_type": "markdown",
   "metadata": {},
   "source": [
    "__Now, we generate four QR's__\n",
    "- Can we guess which algorithm is the default $QR$ for Scipy?\n",
    "- Will the Scipy library routine compute any of the \"zero\" entries in $R$?"
   ]
  },
  {
   "cell_type": "code",
   "execution_count": 8,
   "metadata": {},
   "outputs": [
    {
     "name": "stdout",
     "output_type": "stream",
     "text": [
      "[[9.899 9.495 9.697]\n",
      " [0.    3.292 3.013]\n",
      " [0.    0.    1.97 ]]\n",
      "[[9.899 9.495 9.697]\n",
      " [0.    3.292 3.013]\n",
      " [0.    0.    1.97 ]]\n",
      "[[-9.899 -9.495 -9.697]\n",
      " [-0.    -3.292 -3.013]\n",
      " [-0.    -0.     1.97 ]\n",
      " [-0.     0.    -0.   ]\n",
      " [-0.     0.     0.   ]]\n",
      "[[-9.899 -9.495 -9.697]\n",
      " [ 0.    -3.292 -3.013]\n",
      " [ 0.     0.     1.97 ]\n",
      " [ 0.     0.     0.   ]\n",
      " [ 0.     0.     0.   ]]\n"
     ]
    }
   ],
   "source": [
    "[Q1,R1] = classical_GS(A)\n",
    "[Q2,R2] = mod_GS(A)\n",
    "[Q3,R3] = householder(A)\n",
    "[Q4,R4] = sla.qr(A)\n",
    "print(R1)\n",
    "print(R2)\n",
    "print(R3)\n",
    "print(R4)\n"
   ]
  },
  {
   "cell_type": "markdown",
   "metadata": {},
   "source": [
    "__Why will Scipy choose Householder?  Which benefit(s) does it offer?__"
   ]
  },
  {
   "cell_type": "code",
   "execution_count": 9,
   "metadata": {},
   "outputs": [],
   "source": [
    "# Generate Vandermonde matrix, where Van[:,i] = x**i\n",
    "ncols_Van = 20\n",
    "size_x = 20\n",
    "x = np.linspace(0,1,size_x)\n",
    "Van = np.zeros((x.shape[0],ncols_Van))\n",
    "for i in range(ncols_Van):\n",
    "    Van[:,i] = x**i\n",
    "\n",
    "# Compute the QR\n",
    "[Q1,R1] = classical_GS(Van)\n",
    "[Q2,R2] = mod_GS(Van)\n",
    "[Q4,R4] = sla.qr(Van)\n",
    "QQ1 = np.dot(Q1.T, Q1)\n",
    "QQ2 = np.dot(Q2.T, Q2)\n",
    "QQ4 = np.dot(Q4.T, Q4)"
   ]
  },
  {
   "cell_type": "markdown",
   "metadata": {},
   "source": [
    "__What Should QQ1, QQ2, and QQ4 equal?__"
   ]
  },
  {
   "cell_type": "code",
   "execution_count": 10,
   "metadata": {},
   "outputs": [
    {
     "name": "stdout",
     "output_type": "stream",
     "text": [
      "[-0.        0.       -0.       -0.       -0.       -0.000002 -0.000079\n",
      " -0.002997 -0.080205 -0.976368  0.996309  0.998483  0.999251  0.999608\n",
      "  0.999794  0.999896  0.999953  0.999983  0.999996  1.      ]\n",
      "\n",
      "[ 0.058926  0.089657  0.079973 -0.066385 -0.070639 -0.034075 -0.018303\n",
      " -0.003058 -0.000508  0.000089  0.000016 -0.000002  0.000002 -0.\n",
      "  0.       -0.        0.        0.        0.        1.      ]\n",
      "\n",
      "[-0. -0. -0.  0.  0.  0.  0.  0. -0. -0.  0. -0.  0.  0.  0. -0.  0.  0.\n",
      " -0.  1.]\n"
     ]
    }
   ],
   "source": [
    "np.set_printoptions(precision=6, suppress=True)\n",
    "print(QQ1[-1,:])\n",
    "print(\"\")\n",
    "print(QQ2[-1,:])\n",
    "print(\"\")\n",
    "print(QQ4[-1,:])\n",
    "\n"
   ]
  }
 ],
 "metadata": {
  "kernelspec": {
   "display_name": "Python 3",
   "language": "python",
   "name": "python3"
  },
  "language_info": {
   "codemirror_mode": {
    "name": "ipython",
    "version": 3
   },
   "file_extension": ".py",
   "mimetype": "text/x-python",
   "name": "python",
   "nbconvert_exporter": "python",
   "pygments_lexer": "ipython3",
   "version": "3.7.4"
  }
 },
 "nbformat": 4,
 "nbformat_minor": 1
}

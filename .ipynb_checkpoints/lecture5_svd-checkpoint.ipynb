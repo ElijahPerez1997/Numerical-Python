{
 "cells": [
  {
   "cell_type": "code",
   "execution_count": null,
   "metadata": {},
   "outputs": [],
   "source": [
    "# Import our packages for numerical computing\n",
    "import numpy as np\n",
    "import scipy as sp\n",
    "import matplotlib.pyplot as plt\n",
    "import scipy.linalg as sla\n",
    "%matplotlib inline"
   ]
  },
  {
   "cell_type": "markdown",
   "metadata": {},
   "source": [
    "- __We will demonstrate some of the numerical uses of the SVD__\n",
    "\n",
    "- __As a syntax issue, note how dot() is used to do matrix-matrix products.  Use dot() in general for mat-mat and mat-vec__\n"
   ]
  },
  {
   "cell_type": "code",
   "execution_count": null,
   "metadata": {},
   "outputs": [],
   "source": [
    "# Generate SVD from Scipy Linalg sub-package \n",
    "n = 4\n",
    "A = sp.rand(n,n)\n",
    "[U,S,Vh] = sla.svd(A)\n",
    "\n",
    "# Generate eigs of A A* and A* A\n",
    "[E,U2] = sla.eig(np.dot(A,A.T))\n",
    "[E2,V2] = sla.eig(np.dot(A.T,A))\n",
    "\n",
    "# Question: Does it matter if we use E or E2 ?\n",
    "\n",
    "# But remember, S is sorted by magnitude, but E is not\n",
    "indices = np.flip( np.argsort(abs(E)) )\n",
    "E = E[indices]\n",
    "U2 = U2[:,indices]\n",
    "V2 = V2[:,indices]\n",
    "\n",
    "# Remember, these vectors may differ by sign\n",
    "np.set_printoptions(precision=3, suppress=True)\n",
    "print(U)\n",
    "print('------')\n",
    "print(U2)"
   ]
  },
  {
   "cell_type": "code",
   "execution_count": null,
   "metadata": {},
   "outputs": [],
   "source": [
    "# Now lets print V2 and E (again, why transpose V2?)\n",
    "# Again, these matrices may vary by sign\n",
    "print(Vh)\n",
    "print('------')\n",
    "print(V2.T)"
   ]
  },
  {
   "cell_type": "markdown",
   "metadata": {},
   "source": [
    "__Lets explore rank with the Vandermonde matrix__"
   ]
  },
  {
   "cell_type": "code",
   "execution_count": null,
   "metadata": {},
   "outputs": [],
   "source": [
    "# Generate array of x-coordinates\n",
    "ncols_Van = 20\n",
    "size_x = 20\n",
    "x = np.linspace(0,1,size_x)\n",
    "print(x)\n",
    "\n",
    "# Construct Vandermonde Van where Van[:,i] = x**i\n",
    "Van = np.zeros((x.shape[0],ncols_Van))\n",
    "for i in range(ncols_Van):\n",
    "    Van[:,i] = x**i\n",
    "\n",
    "np.set_printoptions(precision=2, suppress=True)\n",
    "if size_x < 12: print(Van)\n"
   ]
  },
  {
   "cell_type": "code",
   "execution_count": null,
   "metadata": {},
   "outputs": [],
   "source": [
    "# Now, we'll take a look at the singular values\n",
    "[U,S,V] = sla.svd(Van)\n",
    "np.set_printoptions(precision=15, suppress=True)\n",
    "print(S)\n",
    "\n",
    "# Note how there is a big ratio of the biggest and smallest singular value\n",
    "print(\"\\nRatio of biggest and smallest sing vals:  %1.2e\"%(S[-1] / S[0]))"
   ]
  },
  {
   "cell_type": "markdown",
   "metadata": {},
   "source": [
    "__TODO__\n",
    "- Let's play around with ncols_Van above.  What do you predict?\n",
    "- Next, let's generate a bigger Vandermonde, and play around with ncols_Van.\n",
    "    - What does it mean for the smallest sing value to become close to 1e-16 ?\n",
    "    \n",
    "__Questions__\n",
    "- How would you find the range of Van (ignoring zero singular values)?\n",
    "- How would you find the nullspace of Van (ignoring zero singular values)?"
   ]
  },
  {
   "cell_type": "code",
   "execution_count": null,
   "metadata": {},
   "outputs": [],
   "source": []
  }
 ],
 "metadata": {
  "kernelspec": {
   "display_name": "Python 3",
   "language": "python",
   "name": "python3"
  },
  "language_info": {
   "codemirror_mode": {
    "name": "ipython",
    "version": 3
   },
   "file_extension": ".py",
   "mimetype": "text/x-python",
   "name": "python",
   "nbconvert_exporter": "python",
   "pygments_lexer": "ipython3",
   "version": "3.7.4"
  }
 },
 "nbformat": 4,
 "nbformat_minor": 1
}

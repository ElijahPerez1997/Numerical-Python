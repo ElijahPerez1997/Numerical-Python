{
 "cells": [
  {
   "cell_type": "markdown",
   "metadata": {},
   "source": [
    "Problem 2"
   ]
  },
  {
   "cell_type": "code",
   "execution_count": 1,
   "metadata": {},
   "outputs": [],
   "source": [
    "import numpy as np\n",
    "import scipy as sp\n",
    "import matplotlib.pyplot as plt\n",
    "import scipy.linalg as sla\n",
    "%matplotlib inline"
   ]
  },
  {
   "cell_type": "code",
   "execution_count": 71,
   "metadata": {},
   "outputs": [
    {
     "name": "stdout",
     "output_type": "stream",
     "text": [
      "The eigenvalue that I obtained after 100000 iterations of the inverse iteration was 3.9990325645839775\n",
      "\n",
      "And the eigenvector associated with this eigenvalue is\n",
      "[-0.00437636  0.00874848 -0.01311214  0.01746312 -0.0217972   0.02611019\n",
      " -0.03039792  0.03465625 -0.03888104  0.04306823 -0.04721374  0.05131358\n",
      " -0.05536378  0.05936042 -0.06329963  0.0671776  -0.07099058  0.07473488\n",
      " -0.07840688  0.08200303 -0.08551985  0.08895393 -0.09230195  0.09556068\n",
      " -0.09872696  0.10179772 -0.10477001  0.10764093 -0.11040772  0.1130677\n",
      " -0.11561829  0.11805703 -0.12038155  0.12258962 -0.12467908  0.12664793\n",
      " -0.12849426  0.13021627 -0.13181231  0.13328083 -0.1346204   0.13582975\n",
      " -0.13690768  0.13785317 -0.13866529  0.13934326 -0.13988643  0.14029426\n",
      " -0.14056637  0.14070249 -0.14070249  0.14056637 -0.14029426  0.13988643\n",
      " -0.13934326  0.13866529 -0.13785317  0.13690768 -0.13582975  0.1346204\n",
      " -0.13328083  0.13181231 -0.13021627  0.12849426 -0.12664793  0.12467908\n",
      " -0.12258962  0.12038155 -0.11805703  0.11561829 -0.1130677   0.11040772\n",
      " -0.10764093  0.10477001 -0.10179772  0.09872696 -0.09556068  0.09230195\n",
      " -0.08895393  0.08551985 -0.08200303  0.07840688 -0.07473488  0.07099058\n",
      " -0.0671776   0.06329963 -0.05936042  0.05536378 -0.05131358  0.04721374\n",
      " -0.04306823  0.03888104 -0.03465625  0.03039792 -0.02611019  0.0217972\n",
      " -0.01746312  0.01311214 -0.00874848  0.00437636]\n"
     ]
    }
   ],
   "source": [
    "n=100\n",
    "A=sp.sparse.diags([-1, 2, -1], [-1, 0, 1], shape=(n,n)).toarray()\n",
    "m=100000\n",
    "v=np.zeros((n,m))\n",
    "v[0,0]=1\n",
    "lamda=0\n",
    "for i in range(m-1):\n",
    "    w=np.linalg.solve(A-12*np.eye(n),v[:,i])\n",
    "    v[:,i+1]=np.true_divide(w, np.linalg.norm(w))\n",
    "    lamda=np.dot(v[:,i+1],np.dot(A,v[:,i+1]))\n",
    "    \n",
    "#\n",
    "\n",
    "print(\"The eigenvalue that I obtained after\",m,\"iterations of the inverse iteration was\", lamda)\n",
    "print()\n",
    "print(\"And the eigenvector associated with this eigenvalue is\")\n",
    "print(v[:,m-1])"
   ]
  },
  {
   "cell_type": "code",
   "execution_count": null,
   "metadata": {},
   "outputs": [],
   "source": []
  }
 ],
 "metadata": {
  "kernelspec": {
   "display_name": "Python 3",
   "language": "python",
   "name": "python3"
  },
  "language_info": {
   "codemirror_mode": {
    "name": "ipython",
    "version": 3
   },
   "file_extension": ".py",
   "mimetype": "text/x-python",
   "name": "python",
   "nbconvert_exporter": "python",
   "pygments_lexer": "ipython3",
   "version": "3.7.4"
  }
 },
 "nbformat": 4,
 "nbformat_minor": 2
}

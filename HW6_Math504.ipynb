{
 "cells": [
  {
   "cell_type": "code",
   "execution_count": 89,
   "metadata": {},
   "outputs": [],
   "source": [
    "import numpy as np\n",
    "import scipy as sp\n",
    "import matplotlib.pyplot as plt\n",
    "import scipy.linalg as sla\n",
    "%matplotlib inline"
   ]
  },
  {
   "cell_type": "markdown",
   "metadata": {},
   "source": [
    "- In the case of single percision we have that n=$2^{24}+1$ which equals 16777217"
   ]
  },
  {
   "cell_type": "code",
   "execution_count": 90,
   "metadata": {},
   "outputs": [
    {
     "name": "stdout",
     "output_type": "stream",
     "text": [
      "n in single\n",
      "16777216\n",
      "n-1 in single\n",
      "16777216\n",
      "n-2 in single\n",
      "16777215\n",
      "n-3 in single\n",
      "16777214\n"
     ]
    }
   ],
   "source": [
    "n=2**24+1\n",
    "z=np.array([n],dtype=np.float32) \n",
    "print('n in single')\n",
    "print(int(z))\n",
    "print('n-1 in single')\n",
    "print(int(np.array([n-1],dtype=np.float32)))\n",
    "print('n-2 in single')\n",
    "print(int(np.array([n-2],dtype=np.float32)))\n",
    "print('n-3 in single')\n",
    "print(int(np.array([n-3],dtype=np.float32)))"
   ]
  },
  {
   "cell_type": "markdown",
   "metadata": {},
   "source": [
    "- We can clearly see that n in single is the incorrect number and that n-1,n-2, and n-3 are correct. This shows us that n is the smallest integer that cannot be represented by single precision. "
   ]
  },
  {
   "cell_type": "code",
   "execution_count": 91,
   "metadata": {},
   "outputs": [
    {
     "name": "stdout",
     "output_type": "stream",
     "text": [
      "n+1 in single\n",
      "16777218\n",
      "n+2 in single\n",
      "16777220\n",
      "n+3 in sigle\n",
      "16777220\n"
     ]
    }
   ],
   "source": [
    "print('n+1 in single')\n",
    "print(int(np.array([n+1],dtype=np.float32)))\n",
    "print('n+2 in single')\n",
    "print(int(np.array([n+2],dtype=np.float32)))\n",
    "print('n+3 in sigle')\n",
    "print(int(np.array([n+3],dtype=np.float32)))"
   ]
  },
  {
   "cell_type": "markdown",
   "metadata": {},
   "source": [
    "- We can see that our single precision has trouble representing n+1,n+2 and n+3. This is because the gaps between the representable numbers is larger than 1"
   ]
  },
  {
   "cell_type": "markdown",
   "metadata": {},
   "source": [
    "- In the case of double precision we hace that n=$2^{53}+1$ which equals 9007199254740993"
   ]
  },
  {
   "cell_type": "code",
   "execution_count": 92,
   "metadata": {},
   "outputs": [
    {
     "name": "stdout",
     "output_type": "stream",
     "text": [
      "n in double\n",
      "9007199254740992\n",
      "n-1 in double\n",
      "9007199254740992\n",
      "n-2 in double\n",
      "9007199254740991\n",
      "n-3 in double\n",
      "9007199254740990\n"
     ]
    }
   ],
   "source": [
    "n=2**53+1\n",
    "x=np.array([n],dtype=np.float64)\n",
    "print('n in double')\n",
    "print(int(x))\n",
    "print('n-1 in double')\n",
    "print(int(np.array([n-1],dtype=np.float64)))\n",
    "print('n-2 in double')\n",
    "print(int(np.array([n-2],dtype=np.float64)))\n",
    "print('n-3 in double')\n",
    "print(int(np.array([n-3],dtype=np.float64)))"
   ]
  },
  {
   "cell_type": "markdown",
   "metadata": {},
   "source": [
    "- We can clearly see that n in single is the incorrect number and that n-1,n-2, and n-3 are correct. This shows us that n is the smallest integer that cannot be represented by single precision."
   ]
  },
  {
   "cell_type": "code",
   "execution_count": 93,
   "metadata": {},
   "outputs": [
    {
     "name": "stdout",
     "output_type": "stream",
     "text": [
      "n+1 in double\n",
      "9007199254740994\n",
      "n+2 in double\n",
      "9007199254740996\n",
      "n+3 in double\n",
      "9007199254740996\n"
     ]
    }
   ],
   "source": [
    "print('n+1 in double')\n",
    "print(int(np.array([n+1],dtype=np.float64)))\n",
    "print('n+2 in double')\n",
    "print(int(np.array([n+2],dtype=np.float64)))\n",
    "print('n+3 in double')\n",
    "print(int(np.array([n+3],dtype=np.float64)))"
   ]
  },
  {
   "cell_type": "markdown",
   "metadata": {},
   "source": [
    "- We can see that our double precision has trouble representing n+1,n+2 and n+3. This is because the gaps between the representable numbers is larger than 1"
   ]
  }
 ],
 "metadata": {
  "kernelspec": {
   "display_name": "Python 3",
   "language": "python",
   "name": "python3"
  },
  "language_info": {
   "codemirror_mode": {
    "name": "ipython",
    "version": 3
   },
   "file_extension": ".py",
   "mimetype": "text/x-python",
   "name": "python",
   "nbconvert_exporter": "python",
   "pygments_lexer": "ipython3",
   "version": "3.7.4"
  }
 },
 "nbformat": 4,
 "nbformat_minor": 2
}

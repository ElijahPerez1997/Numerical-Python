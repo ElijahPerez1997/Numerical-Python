{
 "cells": [
  {
   "cell_type": "code",
   "execution_count": 288,
   "metadata": {},
   "outputs": [],
   "source": [
    "import numpy as np\n",
    "import scipy as sp\n",
    "import matplotlib.pyplot as plt\n",
    "import scipy.linalg as sla\n",
    "%matplotlib inline"
   ]
  },
  {
   "cell_type": "markdown",
   "metadata": {},
   "source": [
    "Problem 1:"
   ]
  },
  {
   "cell_type": "code",
   "execution_count": 289,
   "metadata": {},
   "outputs": [],
   "source": [
    "def mgs(A):\n",
    "    '''\n",
    "    Carry out modified Gram-Schmidt on A\n",
    "    Return reduced Q R\n",
    "    '''\n",
    "    m = A.shape[0]\n",
    "    n = A.shape[1]\n",
    "    \n",
    "    # Preallocate Q and R (more efficient)\n",
    "    Q = np.zeros( (m,n) )\n",
    "    R = np.zeros( (n,n) )\n",
    "    \n",
    "    # Skip pre-assignment loop of\n",
    "    #    v_i <-- a_i\n",
    "    # as done in Trefethen and Bau. We will just over-write A\n",
    "    # as we compute, i.e., v_i will always be the same thing as \n",
    "    # a_i. This saves space.\n",
    "    \n",
    "    # Loop over columns of A\n",
    "    for i in range(n):\n",
    "        # Form and store qj as column j in Q\n",
    "        R[i,i] = sla.norm(A[:,i])\n",
    "        Q[:,i] = A[:,i]/R[i,i]\n",
    "        \n",
    "        # Orthogonalize all columns j>i of V (really A) w.r.t. qi vj w.r.t. all the previous columns of A\n",
    "        #  Note: Python will not execute this loop for the i==j case \n",
    "        for j in range(i+1,n):\n",
    "            R[i,j] = np.dot(Q[:,i], A[:,j])\n",
    "            A[:,j] = A[:,j] - R[i,j]*Q[:,i]\n",
    "        \n",
    "    ## End loops    \n",
    "    return (Q,R)"
   ]
  },
  {
   "cell_type": "code",
   "execution_count": 290,
   "metadata": {},
   "outputs": [],
   "source": [
    "def house(A):\n",
    "    '''\n",
    "    Carry out a QR factorization of A, using Householder reflectors\n",
    "    \n",
    "    Return reduced Q R\n",
    "    -> Q is a list of reflector vectors v\n",
    "    '''\n",
    "    R = A.copy()    # Copy A, so we don't over-write the matrix passed in\n",
    "    m = R.shape[0]\n",
    "    n = R.shape[1]\n",
    "    vs = []\n",
    "    \n",
    "    for k in range(n):\n",
    "        \n",
    "        # Construct reflector vector\n",
    "        v = R[k:m,k].copy()\n",
    "        v[0] = np.sign(v[0])*sla.norm(v) + v[0]\n",
    "        v = v / sla.norm(v)\n",
    "        vs.append(v)\n",
    "        \n",
    "        # Update R\n",
    "        v = v.reshape(-1,1)\n",
    "        R[k:m, k:n] = R[k:m, k:n] - 2.0*np.dot(v, np.dot(v.T, R[k:m, k:n]))\n",
    "        \n",
    "    ## \n",
    "    # End Loop\n",
    "    \n",
    "    return (vs, R)"
   ]
  },
  {
   "cell_type": "code",
   "execution_count": 291,
   "metadata": {},
   "outputs": [],
   "source": [
    "def formQ(W):\n",
    "    m=W[0].shape[0]\n",
    "    n=len(W)\n",
    "    I=np.eye(m)\n",
    "    for i in range(m):\n",
    "        for k in range(n): \n",
    "            I[k:m,i]=I[k:m,i]-2*W[k]*np.dot(W[k],I[k:m,i])\n",
    "        ##\n",
    "    ##\n",
    "    return(I)"
   ]
  },
  {
   "cell_type": "markdown",
   "metadata": {},
   "source": [
    "Problem 2:"
   ]
  },
  {
   "cell_type": "code",
   "execution_count": 292,
   "metadata": {},
   "outputs": [
    {
     "name": "stdout",
     "output_type": "stream",
     "text": [
      "This is the true matrix A\n",
      "[[1. 2. 3.]\n",
      " [4. 5. 6.]\n",
      " [7. 8. 7.]\n",
      " [4. 2. 3.]\n",
      " [4. 2. 2.]]\n",
      "\n",
      "This is the mgs of A\n",
      "[[1. 2. 3.]\n",
      " [4. 5. 6.]\n",
      " [7. 8. 7.]\n",
      " [4. 2. 3.]\n",
      " [4. 2. 2.]]\n",
      "\n",
      "This is the Householder of A\n",
      "[[ 1.     2.289  0.804]\n",
      " [ 3.13   4.165  3.361]\n",
      " [-5.365 -6.846 -7.845]\n",
      " [ 6.773  5.417  5.665]\n",
      " [ 3.541  1.483  1.189]]\n",
      "\n",
      "This is scipys QR factorization\n",
      "[[ 1.     1.041  1.068]\n",
      " [ 4.     1.163  1.017]\n",
      " [ 7.     1.286 -1.034]\n",
      " [ 4.    -1.837  0.763]\n",
      " [ 4.    -1.837 -0.237]]\n"
     ]
    }
   ],
   "source": [
    "A=np.array([[1.,2.,3.],[4,5,6],[7,8,7],[4,2,3],[4,2,2]])\n",
    "print('This is the true matrix A')\n",
    "print(A)\n",
    "[W,Rh]=house(A)\n",
    "Qh=formQ(W)\n",
    "Ah=np.dot(Qh,Rh)\n",
    "[Qmgs,Rmgs]=mgs(A)\n",
    "Amgs=np.dot(Qmgs,Rmgs)\n",
    "[Qsci,Rsci]=sla.qr(A, mode='economic')\n",
    "Asci=np.dot(Qsci,Rsci)\n",
    "print()\n",
    "print('This is the mgs of A')\n",
    "print(Amgs)\n",
    "print()\n",
    "print('This is the Householder of A')\n",
    "print(Ah)\n",
    "print()\n",
    "print('This is scipys QR factorization')\n",
    "print(Asci)\n"
   ]
  },
  {
   "cell_type": "markdown",
   "metadata": {},
   "source": [
    "- Simply looking at the resulting matricies we can see that the mgs method worked the best in this cas and both the householder and scipy's QR factorizations didn't work well."
   ]
  },
  {
   "cell_type": "markdown",
   "metadata": {},
   "source": [
    "Problem 3:"
   ]
  },
  {
   "cell_type": "code",
   "execution_count": 293,
   "metadata": {},
   "outputs": [
    {
     "name": "stdout",
     "output_type": "stream",
     "text": [
      "This is using A\n",
      "[ 0.059 -0.213 -0.382  2.221 -0.522 -5.403 -0.1   10.689 -0.003 -8.\n",
      " -0.     1.   ]\n",
      "This is using the mgs QR of A\n",
      "[ 0.069 -0.269 -0.246  2.035 -0.365 -5.489 -0.069 10.682 -0.002 -8.\n",
      " -0.     1.   ]\n",
      "This is using the Householder QR of A\n",
      "[      0.585   28781.472 -136416.923  266061.606 -270085.409  144045.282\n",
      "  -29142.895   -7648.464    5361.53    -1019.307      64.008      -0.073]\n",
      "This is using scipys QR\n",
      "[ 0.11  -0.498  0.305  1.285  0.273 -5.839  0.054 10.654  0.002 -8.\n",
      "  0.     1.   ]\n",
      "This is using the svd of A\n",
      "[  -1.374  -34.686 -259.085 -711.345 -106.138 3359.584 7387.521 7172.436\n",
      " 3512.806  816.427   64.075    1.   ]\n"
     ]
    }
   ],
   "source": [
    "m=50\n",
    "n=12\n",
    "t=np.linspace(0,1,num=m)\n",
    "A=np.vander(t,n)\n",
    "b=np.cos(4*t)\n",
    "print('This is using A')\n",
    "print(np.linalg.solve(np.dot(A.T,A),np.dot(A.T,b)))\n",
    "[W,Rh]=house(A)\n",
    "Qh=formQ(W)\n",
    "Ah=np.dot(Qh,Rh)\n",
    "[Qsci,Rsci]=sla.qr(A, mode='economic')\n",
    "Asci=np.dot(Qsci,Rsci)\n",
    "[Qmgs,Rmgs]=mgs(A)\n",
    "Amgs=np.dot(Qmgs,Rmgs)\n",
    "print('This is using the mgs QR of A')\n",
    "print(np.linalg.solve(np.dot(Amgs.T,Amgs),np.dot(Amgs.T,b)))\n",
    "print('This is using the Householder QR of A')\n",
    "print(np.linalg.solve(np.dot(Ah.T,Ah),np.dot(Ah.T,b)))\n",
    "print('This is using scipys QR')\n",
    "print(np.linalg.solve(np.dot(Asci.T,Asci),np.dot(Asci.T,b)))\n",
    "[U,S,V]=sla.svd(A,full_matrices=False)\n",
    "Asvd=np.dot(U, np.dot(np.diag(S),V))\n",
    "print('This is using the svd of A')\n",
    "print(np.linalg.solve(np.dot(Asvd.T,Asvd),np.dot(Asvd.T,b)))\n",
    "\n"
   ]
  },
  {
   "cell_type": "markdown",
   "metadata": {},
   "source": [
    "-  As we can see many of the constants changed when we applied QR and SVD. The one that changed the least was the MGS QR factorization. The housholder QR seems to have the worst result."
   ]
  }
 ],
 "metadata": {
  "kernelspec": {
   "display_name": "Python 3",
   "language": "python",
   "name": "python3"
  },
  "language_info": {
   "codemirror_mode": {
    "name": "ipython",
    "version": 3
   },
   "file_extension": ".py",
   "mimetype": "text/x-python",
   "name": "python",
   "nbconvert_exporter": "python",
   "pygments_lexer": "ipython3",
   "version": "3.7.4"
  }
 },
 "nbformat": 4,
 "nbformat_minor": 2
}

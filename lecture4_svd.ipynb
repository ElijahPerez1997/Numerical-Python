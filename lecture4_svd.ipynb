{
 "cells": [
  {
   "cell_type": "markdown",
   "metadata": {},
   "source": [
    "- Python is a general purpose language with everyone from socket programming, to web servers, to databases\n",
    "- To *activate* these various capabilities, you have to import the correct packages\n",
    "    - By *activate*, I mean import the functions and objects that support these capabilities into our namespace\n",
    "- We will use the following packages in this class\n",
    "    - numpy\n",
    "    - scipy\n",
    "    - matplotlib\n",
    "    - pyamg\n",
    "- The package import syntax is simple\n",
    "\n"
   ]
  },
  {
   "cell_type": "code",
   "execution_count": 2,
   "metadata": {},
   "outputs": [],
   "source": [
    "import numpy as np\n",
    "import scipy as sp\n",
    "import matplotlib.pyplot as plt\n",
    "import scipy.linalg as sla\n",
    "%matplotlib inline"
   ]
  },
  {
   "cell_type": "markdown",
   "metadata": {},
   "source": [
    "First, we explore the SVD capabilities in Python"
   ]
  },
  {
   "cell_type": "code",
   "execution_count": 3,
   "metadata": {},
   "outputs": [
    {
     "name": "stdout",
     "output_type": "stream",
     "text": [
      "[[0.60262333 0.06784845 0.59628614 0.9550051 ]\n",
      " [0.15559498 0.50413713 0.34912482 0.57894737]\n",
      " [0.84068149 0.38197826 0.89981552 0.91587882]\n",
      " [0.12368394 0.77442551 0.21909403 0.13940927]]\n"
     ]
    }
   ],
   "source": [
    "n = 4\n",
    "A = sp.rand(n,n)\n",
    "print(A)"
   ]
  },
  {
   "cell_type": "code",
   "execution_count": 4,
   "metadata": {},
   "outputs": [],
   "source": [
    "# Generate SVD from Scipy Linalg sub-package \n",
    "[U,S,Vh] = sla.svd(A)"
   ]
  },
  {
   "cell_type": "code",
   "execution_count": 5,
   "metadata": {},
   "outputs": [
    {
     "name": "stdout",
     "output_type": "stream",
     "text": [
      "[[-0.56  0.41  0.39  0.61]\n",
      " [-0.36 -0.36  0.69 -0.52]\n",
      " [-0.71  0.12 -0.58 -0.37]\n",
      " [-0.23 -0.83 -0.19  0.48]]\n",
      "------\n",
      "[2.2  0.8  0.29 0.06]\n",
      "------\n",
      "[[-0.46 -0.3  -0.52 -0.65]\n",
      " [ 0.24 -0.94  0.06  0.22]\n",
      " [-0.61 -0.01 -0.34  0.72]\n",
      " [ 0.6   0.14 -0.78  0.14]]\n"
     ]
    }
   ],
   "source": [
    "# Print out the SVD\n",
    "np.set_printoptions(precision=2, suppress=True)\n",
    "print(U)\n",
    "print('------')\n",
    "print(S)\n",
    "print('------')\n",
    "print(Vh)"
   ]
  },
  {
   "cell_type": "code",
   "execution_count": 6,
   "metadata": {},
   "outputs": [
    {
     "name": "stdout",
     "output_type": "stream",
     "text": [
      "[[ 0. -0.  0.  0.]\n",
      " [-0.  0.  0.  0.]\n",
      " [ 0. -0.  0.  0.]\n",
      " [-0.  0.  0. -0.]]\n"
     ]
    }
   ],
   "source": [
    "# Verify the SVD is correct\n",
    "# ==> Note how we do matrix-matrix products!  USE DOT()!\n",
    "print(A - np.dot(U, np.dot(np.diag(S),Vh)) )"
   ]
  },
  {
   "cell_type": "code",
   "execution_count": 7,
   "metadata": {},
   "outputs": [
    {
     "name": "stdout",
     "output_type": "stream",
     "text": [
      "[[ 0.21  0.66 -0.14  1.73]\n",
      " [-0.21  0.41 -0.04  1.24]\n",
      " [ 0.04  0.86 -0.1   1.71]\n",
      " [-0.32  0.27 -0.13  0.48]]\n"
     ]
    }
   ],
   "source": [
    "# Be careful...svd returns the adjoint of V !\n",
    "print(A - np.dot(U, np.dot(np.diag(S),Vh.T)) )"
   ]
  },
  {
   "cell_type": "markdown",
   "metadata": {},
   "source": [
    "__Can solve a linear system with SVD__\n",
    "\\begin{align}\n",
    "    A &= U \\Sigma V^* \\quad \\Rightarrow \\\\\n",
    "    A^{-1} &= V \\Sigma^{-1} U^*\n",
    "\\end{align}\n",
    "    "
   ]
  },
  {
   "cell_type": "code",
   "execution_count": 8,
   "metadata": {},
   "outputs": [
    {
     "name": "stdout",
     "output_type": "stream",
     "text": [
      "[[0.66]\n",
      " [0.01]\n",
      " [0.82]\n",
      " [0.63]]\n",
      "----\n",
      "[[0.66]\n",
      " [0.01]\n",
      " [0.82]\n",
      " [0.63]]\n"
     ]
    }
   ],
   "source": [
    "b = sp.rand(n,1)\n",
    "x = np.dot(U.T, b)\n",
    "x = x/S.reshape(-1,1)\n",
    "x = np.dot(Vh.T,x)\n",
    "print(np.dot(A,x))\n",
    "print(\"----\")\n",
    "print(b)"
   ]
  },
  {
   "cell_type": "markdown",
   "metadata": {},
   "source": [
    "__If you are not familiar with Python and Scipy/Numpy then please do some of tutorial(s) for these technologies.__\n",
    "    - See scipy_tutorial.pdf in the lecture materials\n",
    "    - The course webpage has some links at the bottom, but the web is filled many resources here, too."
   ]
  },
  {
   "cell_type": "code",
   "execution_count": null,
   "metadata": {},
   "outputs": [],
   "source": []
  }
 ],
 "metadata": {
  "kernelspec": {
   "display_name": "Python 3",
   "language": "python",
   "name": "python3"
  },
  "language_info": {
   "codemirror_mode": {
    "name": "ipython",
    "version": 3
   },
   "file_extension": ".py",
   "mimetype": "text/x-python",
   "name": "python",
   "nbconvert_exporter": "python",
   "pygments_lexer": "ipython3",
   "version": "3.7.4"
  }
 },
 "nbformat": 4,
 "nbformat_minor": 1
}
